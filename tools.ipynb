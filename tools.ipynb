{
 "cells": [
  {
   "cell_type": "code",
   "execution_count": 3,
   "metadata": {},
   "outputs": [
    {
     "name": "stdout",
     "output_type": "stream",
     "text": [
      "414208\n"
     ]
    }
   ],
   "source": [
    "import IPy\n",
    "import json\n",
    "\n",
    "with open(\"/root/Workspace/twmeasure/targets.json\",'r') as inf:\n",
    "    dataj = json.loads(inf.read())\n",
    "print(len(dataj))\n",
    "# with open(\"/root/Workspace/twmeasure/AS4782\",'r') as inf:\n",
    "#     for line in inf.readlines():\n",
    "#         line = line.strip()\n",
    "#         ips = IPy.IP(line)\n",
    "#         for ip in ips:\n",
    "#             ip = str(ip)\n",
    "#             if ip not in dataj:\n",
    "#                 dataj[ip] = {\n",
    "#         \"asn\":\"AS4782\",\n",
    "#         \"online\":-1,\n",
    "#         \"domains\":[],\n",
    "#         \"openports\":[],\n",
    "#         \"traceroutes\":[],\n",
    "#         \"location\":[]\n",
    "#     }\n",
    "# with open(\"/root/Workspace/twmeasure/targets.json\",'w+') as ouf:\n",
    "#     ouf.write(json.dumps(dataj, sort_keys=True, indent=4, separators=(',', ': ')))"
   ]
  },
  {
   "cell_type": "code",
   "execution_count": null,
   "metadata": {},
   "outputs": [],
   "source": [
    "import IPy\n",
    "import json\n",
    "\n",
    "with open(\"/root/Workspace/twmeasure/targets.json\",'r') as inf:\n",
    "    dataj = json.loads(inf.read())\n",
    "for k,v in dataj.items():\n",
    "    dataj[k]['os'] = \"\"\n",
    "with open(\"/root/Workspace/twmeasure/targets.json\",'w+') as ouf:\n",
    "    ouf.write(json.dumps(dataj, sort_keys=True, indent=4, separators=(',', ': ')))"
   ]
  },
  {
   "cell_type": "markdown",
   "metadata": {},
   "source": [
    "# 通过domain - A记录更新json文件"
   ]
  },
  {
   "cell_type": "code",
   "execution_count": 4,
   "metadata": {},
   "outputs": [
    {
     "data": {
      "application/vnd.jupyter.widget-view+json": {
       "model_id": "645ddab860dd49b1b0b933b921e048ad",
       "version_major": 2,
       "version_minor": 0
      },
      "text/plain": [
       "  0%|          | 0/7911 [00:00<?, ?it/s]"
      ]
     },
     "metadata": {},
     "output_type": "display_data"
    }
   ],
   "source": [
    "from tqdm.notebook import tqdm\n",
    "import json\n",
    "\n",
    "\n",
    "with open(\"/root/Workspace/twmeasure/targets.json\",'r') as inf:\n",
    "    dataj = json.loads(inf.read())\n",
    "\n",
    "with open(\"/root/Workspace/twmeasure/gov.tw.subdomain.A\",'r') as inf:\n",
    "    for line in tqdm(inf.readlines()):\n",
    "        line = line.strip()\n",
    "        data = line.split(',')\n",
    "        ip = data[0]\n",
    "        domain = data[1]\n",
    "        if ip not in dataj:\n",
    "            dataj[ip] = {\n",
    "                \"asn\":\"AS4782\",\n",
    "                \"online\":-1,\n",
    "                \"domains\":[domain],\n",
    "                \"openports\":[],\n",
    "                \"traceroutes\":[],\n",
    "                \"location\":[]\n",
    "            }\n",
    "        else:\n",
    "            if domain not in dataj[ip]['domains']:\n",
    "                dataj[ip]['domains'].append(domain)\n",
    "                \n",
    "with open(\"/root/Workspace/twmeasure/targets.json\",'w+') as ouf:\n",
    "    ouf.write(json.dumps(dataj, sort_keys=True, indent=4, separators=(',', ': ')))"
   ]
  }
 ],
 "metadata": {
  "interpreter": {
   "hash": "767d51c1340bd893661ea55ea3124f6de3c7a262a8b4abca0554b478b1e2ff90"
  },
  "kernelspec": {
   "display_name": "Python 3.8.10 64-bit",
   "language": "python",
   "name": "python3"
  },
  "language_info": {
   "codemirror_mode": {
    "name": "ipython",
    "version": 3
   },
   "file_extension": ".py",
   "mimetype": "text/x-python",
   "name": "python",
   "nbconvert_exporter": "python",
   "pygments_lexer": "ipython3",
   "version": "3.8.10"
  },
  "orig_nbformat": 4
 },
 "nbformat": 4,
 "nbformat_minor": 2
}
