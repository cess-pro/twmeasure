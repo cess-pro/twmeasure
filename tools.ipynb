{
 "cells": [
  {
   "cell_type": "code",
   "execution_count": 3,
   "metadata": {},
   "outputs": [
    {
     "name": "stdout",
     "output_type": "stream",
     "text": [
      "414208\n"
     ]
    }
   ],
   "source": [
    "import IPy\n",
    "import json\n",
    "\n",
    "with open(\"/root/Workspace/twmeasure/targets.json\",'r') as inf:\n",
    "    dataj = json.loads(inf.read())\n",
    "print(len(dataj))\n",
    "# with open(\"/root/Workspace/twmeasure/AS4782\",'r') as inf:\n",
    "#     for line in inf.readlines():\n",
    "#         line = line.strip()\n",
    "#         ips = IPy.IP(line)\n",
    "#         for ip in ips:\n",
    "#             ip = str(ip)\n",
    "#             if ip not in dataj:\n",
    "#                 dataj[ip] = {\n",
    "#         \"asn\":\"AS4782\",\n",
    "#         \"online\":-1,\n",
    "#         \"domains\":[],\n",
    "#         \"openports\":[],\n",
    "#         \"traceroutes\":[],\n",
    "#         \"location\":[]\n",
    "#     }\n",
    "# with open(\"/root/Workspace/twmeasure/targets.json\",'w+') as ouf:\n",
    "#     ouf.write(json.dumps(dataj, sort_keys=True, indent=4, separators=(',', ': ')))"
   ]
  },
  {
   "cell_type": "code",
   "execution_count": null,
   "metadata": {},
   "outputs": [],
   "source": [
    "import IPy\n",
    "import json\n",
    "\n",
    "with open(\"/root/Workspace/twmeasure/targets.json\",'r') as inf:\n",
    "    dataj = json.loads(inf.read())\n",
    "for k,v in dataj.items():\n",
    "    dataj[k]['os'] = \"\"\n",
    "with open(\"/root/Workspace/twmeasure/targets.json\",'w+') as ouf:\n",
    "    ouf.write(json.dumps(dataj, sort_keys=True, indent=4, separators=(',', ': ')))"
   ]
  }
 ],
 "metadata": {
  "interpreter": {
   "hash": "767d51c1340bd893661ea55ea3124f6de3c7a262a8b4abca0554b478b1e2ff90"
  },
  "kernelspec": {
   "display_name": "Python 3.8.10 64-bit",
   "language": "python",
   "name": "python3"
  },
  "language_info": {
   "codemirror_mode": {
    "name": "ipython",
    "version": 3
   },
   "file_extension": ".py",
   "mimetype": "text/x-python",
   "name": "python",
   "nbconvert_exporter": "python",
   "pygments_lexer": "ipython3",
   "version": "3.8.10"
  },
  "orig_nbformat": 4
 },
 "nbformat": 4,
 "nbformat_minor": 2
}
